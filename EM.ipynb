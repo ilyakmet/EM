{
 "cells": [
  {
   "cell_type": "code",
   "execution_count": 32,
   "metadata": {
    "collapsed": true
   },
   "outputs": [],
   "source": [
    "import pandas as pd\n",
    "import numpy as np\n",
    "import random\n",
    "#from scipy.stats import norm\n",
    "import math\n",
    "%matplotlib inline"
   ]
  },
  {
   "cell_type": "code",
   "execution_count": 38,
   "metadata": {
    "collapsed": false
   },
   "outputs": [],
   "source": [
    "#return normal distribution for x\n",
    "#def N(x, M, D):\n",
    "#    return norm.cdf(x, M, D)\n",
    "\n",
    "def N(x, M, D):\n",
    "    return math.e ** ( - ((x - M) ** 2) / (2 * D)) / math.sqrt(2 * D * math.pi)\n",
    "\n",
    "#return P(sex)\n",
    "def P(alpha, pm, pf):\n",
    "    return (alpha * pm) / (alpha * pm + (1 - alpha) * pf)\n",
    "\n",
    "#return 1 and 2 median\n",
    "def M(df):\n",
    "\treturn df[df['Male'] == True].height.median(), df[df['Male'] == False].height.median()\n",
    "\n",
    "#return alphas\n",
    "def alphas(df):\n",
    "\talpha_m = df[df['Male'] == True].shape[0] / float(selection_len)\n",
    "\talpha_f = 1 - alpha_m\n",
    "\treturn alpha_m, alpha_f\n",
    "\n",
    "#return normal distribution for height columns (male and female median)\n",
    "def p(df):\n",
    "\tdf['pm'] = df.height.apply(lambda x: N(x, Mm, D))\n",
    "\tdf['pf'] = df.height.apply(lambda x: N(x, Mf, D))\n",
    "\treturn\n",
    "\n",
    "#return sex for every object in column height (True if Male)\n",
    "def Male(df):\n",
    "\tdf['Male'] = df[['pm', 'pf']].apply(lambda x: P(alpha_m, x['pm'], x['pf']) >= random.random(), axis=1)\n",
    "\n",
    "def alpha_search(df, alpha_m, alpha_f):\n",
    "\tp(df)\n",
    "\tMale(df)\n",
    "\talpha_m, alpha_f = alphas(df)\n",
    "\trMm, rMf = M(df)\n",
    "\t#print df.head(5)\n",
    "\treturn alpha_m, alpha_f, rMm, rMf\n",
    "\n",
    "def alpha_test(alpha_row):\n",
    "\ttry:\n",
    "\t\tif len(alpha_row) < 10:\n",
    "\t\t\treturn False\n",
    "\t\teps_test = abs(np.mean(alpha_row[int(len(alpha_row)/2):]) - np.mean(alpha_row[:int(len(alpha_row)/2)]))\n",
    "\t\tprint(str(eps_test) + ' -eps_test')\n",
    "\t\tprint 'Mm:' + str(Mm) + ' Mf:' + str(Mf) + ' D:' + str(D) + ' alpha_m:' + str(alpha_m)# + ' alpha_f:' + str(alpha_f)\n",
    "\t\tprint df.head()\n",
    "\t\treturn eps_test <= eps\n",
    "\texcept:\n",
    "\t\treturn False"
   ]
  },
  {
   "cell_type": "code",
   "execution_count": 39,
   "metadata": {
    "collapsed": true
   },
   "outputs": [],
   "source": [
    "#read csv\n",
    "df = pd.read_csv('dataset.csv', header=0, sep=' ')\n",
    "del df['Unnamed: 1']\n",
    "\n",
    "#get selection len\n",
    "selection_len = len(df.values)\n",
    "\n",
    "#get dispersion and eps\n",
    "D = (4.785030177866893)**2 #df.height.std()**2\n",
    "eps = 0.2"
   ]
  },
  {
   "cell_type": "code",
   "execution_count": 42,
   "metadata": {
    "collapsed": true
   },
   "outputs": [],
   "source": [
    "#get first step parameters\n",
    "Mm = df.height.median()\n",
    "Mf = df[(df['height'] > Mm) | (df['height'] < Mm)].height.median()\n",
    "alpha_m = 0.39\n",
    "alpha_f = 1 - alpha_m\n",
    "alpha_row = np.array([alpha_m])"
   ]
  },
  {
   "cell_type": "code",
   "execution_count": 43,
   "metadata": {
    "collapsed": false
   },
   "outputs": [
    {
     "name": "stdout",
     "output_type": "stream",
     "text": [
      "0.027 -eps_test\n",
      "Mm:163.128663895 Mf:172.65000033 D:22.8965138031 alpha_m:0.435\n",
      "       height        pm        pf   Male\n",
      "0  157.711568  0.044336  0.000688   True\n",
      "1  163.582843  0.082931  0.014498   True\n",
      "2  170.156305  0.028014  0.073697  False\n",
      "3  164.807430  0.078168  0.022645  False\n",
      "4  163.045220  0.083369  0.011676   True\n"
     ]
    }
   ],
   "source": [
    "while not alpha_test(alpha_row):\n",
    "\talpha_m, alpha_f, Mm, Mf = alpha_search(df, alpha_m, alpha_f)\n",
    "\talpha_row = np.append(alpha_row, alpha_m)\n",
    "\n",
    "#print('final_alpha: ' + str(alpha_m))"
   ]
  },
  {
   "cell_type": "code",
   "execution_count": 34,
   "metadata": {
    "collapsed": false
   },
   "outputs": [
    {
     "data": {
      "text/plain": [
       "<matplotlib.axes._subplots.AxesSubplot at 0x108f871d0>"
      ]
     },
     "execution_count": 34,
     "metadata": {},
     "output_type": "execute_result"
    },
    {
     "data": {
      "image/png": "[encoded data removed]",
      "text/plain": [
       "<matplotlib.figure.Figure at 0x108f48f50>"
      ]
     },
     "metadata": {},
     "output_type": "display_data"
    }
   ],
   "source": [
    "df.height.hist()"
   ]
  },
  {
   "cell_type": "code",
   "execution_count": null,
   "metadata": {
    "collapsed": true
   },
   "outputs": [],
   "source": []
  }
 ],
 "metadata": {
  "anaconda-cloud": {},
  "kernelspec": {
   "display_name": "Python [conda root]",
   "language": "python",
   "name": "conda-root-py"
  },
  "language_info": {
   "codemirror_mode": {
    "name": "ipython",
    "version": 2
   },
   "file_extension": ".py",
   "mimetype": "text/x-python",
   "name": "python",
   "nbconvert_exporter": "python",
   "pygments_lexer": "ipython2",
   "version": "2.7.12"
  }
 },
 "nbformat": 4,
 "nbformat_minor": 1
}
