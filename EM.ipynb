{
 "cells": [
  {
   "cell_type": "code",
   "execution_count": 58,
   "metadata": {
    "collapsed": true
   },
   "outputs": [],
   "source": [
    "import pandas as pd\n",
    "import numpy as np\n",
    "import random\n",
    "from scipy.stats import norm"
   ]
  },
  {
   "cell_type": "code",
   "execution_count": 66,
   "metadata": {
    "collapsed": true
   },
   "outputs": [],
   "source": [
    "def N(x, M, D):\n",
    "    return norm.cdf(x, M, D)\n",
    "\n",
    "def P(alpha, pm, pf):\n",
    "    return (alpha * pm) / (alpha * pm + (1 - alpha) * pf)\n",
    "\n",
    "def M(df):\n",
    "\treturn df[df['Male'] == True].height.median(), df[df['Male'] == False].height.median()\n",
    "\n",
    "def alphas(df):\n",
    "\talpha_m = df[df['Male'] == True].shape[0] / float(selection_len)\n",
    "\talpha_f = 1 - alpha_m\n",
    "\treturn alpha_m, alpha_f\n",
    "\n",
    "def p(df):\n",
    "\tdf['pm'] = df.height.apply(lambda x: N(x, Mm, D))\n",
    "\tdf['pf'] = df.height.apply(lambda x: N(x, Mf, D))\n",
    "\treturn\n",
    "\n",
    "def Male(df):\n",
    "\tdf['Male'] = df[['pm', 'pf']].apply(lambda x: P(alpha_m, x['pm'], x['pf']) > random.random(), axis=1)\n",
    "\n",
    "def alpha_search(df, alpha_m, alpha_f):\n",
    "\tp(df)\n",
    "\tMale(df)\n",
    "\talpha_m, alpha_f = alphas(df)\n",
    "\tMm, Mf = M(df)\n",
    "\tprint 'Mm:' + str(Mm) + ' Mf:' + str(Mf) + ' D:' + str(D) + ' alpha_m:' + str(alpha_m)# + ' alpha_f:' + str(alpha_f)\n",
    "\treturn alpha_m, alpha_f, Mm, Mf\n",
    "\n",
    "def alpha_test(alpha_row):\n",
    "\ttry:\n",
    "\t\teps_test = abs(np.mean(alpha_row[int(len(alpha_row)/2):]) - np.mean(alpha_row[:int(len(alpha_row)/2)]))\n",
    "\t\tprint(str(eps_test) + ' -eps_test')\n",
    "\t\treturn eps_test <= eps\n",
    "\texcept:\n",
    "\t\treturn False"
   ]
  },
  {
   "cell_type": "code",
   "execution_count": 67,
   "metadata": {
    "collapsed": true
   },
   "outputs": [],
   "source": [
    "A = np.array([random.randrange(160, 200) for x in range(1000)])\n",
    "df = pd.DataFrame(data=A, columns=['height'])\n",
    "selection_len = len(df.values)\n",
    "D = df.height.std()**2\n",
    "eps = 0.2"
   ]
  },
  {
   "cell_type": "code",
   "execution_count": 68,
   "metadata": {
    "collapsed": true
   },
   "outputs": [],
   "source": [
    "Mm = df.height.median()\n",
    "Mf = df[(df['height'] > Mm) | (df['height'] < Mm)].height.median()\n",
    "alpha_m = 0.5\n",
    "alpha_f = 1 - alpha_m\n",
    "alpha_row = np.array([alpha_m])"
   ]
  },
  {
   "cell_type": "code",
   "execution_count": 69,
   "metadata": {
    "collapsed": false
   },
   "outputs": [
    {
     "name": "stdout",
     "output_type": "stream",
     "text": [
      "nan -eps_test\n",
      "Mm:180.0 Mf:178.0 D:131.389145145 alpha_m:0.513\n",
      "0.013 -eps_test\n"
     ]
    }
   ],
   "source": [
    "while not alpha_test(alpha_row):\n",
    "\talpha_m, alpha_f, Mm, Mf = alpha_search(df, alpha_m, alpha_f)\n",
    "\talpha_row = np.append(alpha_row, alpha_m)"
   ]
  },
  {
   "cell_type": "code",
   "execution_count": 71,
   "metadata": {
    "collapsed": false
   },
   "outputs": [
    {
     "data": {
      "text/plain": [
       "<matplotlib.axes._subplots.AxesSubplot at 0x10a279510>"
      ]
     },
     "execution_count": 71,
     "metadata": {},
     "output_type": "execute_result"
    },
    {
     "data": {
      "image/png": "[encoded data removed]",
      "text/plain": [
       "<matplotlib.figure.Figure at 0x10a0b5d90>"
      ]
     },
     "metadata": {},
     "output_type": "display_data"
    }
   ],
   "source": [
    "df.height.hist()"
   ]
  },
  {
   "cell_type": "code",
   "execution_count": null,
   "metadata": {
    "collapsed": true
   },
   "outputs": [],
   "source": []
  }
 ],
 "metadata": {
  "anaconda-cloud": {},
  "kernelspec": {
   "display_name": "Python [conda root]",
   "language": "python",
   "name": "conda-root-py"
  },
  "language_info": {
   "codemirror_mode": {
    "name": "ipython",
    "version": 2
   },
   "file_extension": ".py",
   "mimetype": "text/x-python",
   "name": "python",
   "nbconvert_exporter": "python",
   "pygments_lexer": "ipython2",
   "version": "2.7.12"
  }
 },
 "nbformat": 4,
 "nbformat_minor": 1
}
